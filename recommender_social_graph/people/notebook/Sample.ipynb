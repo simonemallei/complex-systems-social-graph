{
  "nbformat": 4,
  "nbformat_minor": 0,
  "metadata": {
    "colab": {
      "name": "Sample.ipynb",
      "provenance": [],
      "collapsed_sections": [],
      "authorship_tag": "ABX9TyMCQldHQMXYog0AiIRJSuw9",
      "include_colab_link": true
    },
    "kernelspec": {
      "name": "python3",
      "display_name": "Python 3"
    },
    "language_info": {
      "name": "python"
    }
  },
  "cells": [
    {
      "cell_type": "markdown",
      "metadata": {
        "id": "view-in-github",
        "colab_type": "text"
      },
      "source": [
        "<a href=\"https://colab.research.google.com/github/simonemallei/complex-systems-social-graph/blob/main/recommender_social_graph/people/notebook/Sample.ipynb\" target=\"_parent\"><img src=\"https://colab.research.google.com/assets/colab-badge.svg\" alt=\"Open In Colab\"/></a>"
      ]
    },
    {
      "cell_type": "markdown",
      "source": [
        "Cloning the repository used in the notebook:"
      ],
      "metadata": {
        "id": "Gc7_dcr3sed5"
      }
    },
    {
      "cell_type": "code",
      "execution_count": null,
      "metadata": {
        "id": "xfMNIBQQsdeQ"
      },
      "outputs": [],
      "source": [
        "!git clone https://github.com/simonemallei/complex-systems-social-graph.git"
      ]
    },
    {
      "cell_type": "markdown",
      "source": [
        "Printing the files' names in its \"recommender_social_graph\" directory:"
      ],
      "metadata": {
        "id": "nDFrjLtSsjgD"
      }
    },
    {
      "cell_type": "code",
      "source": [
        "!ls"
      ],
      "metadata": {
        "id": "3hocl_VEsjAe"
      },
      "execution_count": null,
      "outputs": []
    },
    {
      "cell_type": "code",
      "source": [
        "%cd complex-systems-social-graph/recommender_social_graph/"
      ],
      "metadata": {
        "id": "tjjphPhXsl1K"
      },
      "execution_count": null,
      "outputs": []
    },
    {
      "cell_type": "code",
      "source": [
        "!ls"
      ],
      "metadata": {
        "id": "tMj2aKgjsoJC"
      },
      "execution_count": null,
      "outputs": []
    }
  ]
}