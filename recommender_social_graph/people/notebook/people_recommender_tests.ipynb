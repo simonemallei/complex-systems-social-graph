{
  "cells": [
    {
      "cell_type": "code",
      "execution_count": 2,
      "metadata": {},
      "outputs": [],
      "source": [
        "#TEST\n",
        "import networkx as nx\n",
        "import random\n",
        "from collections import defaultdict\n",
        "import matplotlib.pyplot as plt\n",
        "import sys\n",
        "from tabulate import tabulate\n",
        "import numpy as np\n",
        "  \n",
        "# setting path\n",
        "sys.path.append('../../')\n",
        "%load_ext autoreload\n",
        "%autoreload 2\n",
        "from graph_creation import MY_homophilic_ba_graph, create_graph\n",
        "from people.people_recommender import people_recommender\n",
        "from people.people_recommender_metrics import intra_list_similarity"
      ]
    },
    {
      "cell_type": "code",
      "execution_count": null,
      "metadata": {},
      "outputs": [],
      "source": [
        "#TEST\n",
        "G = create_graph(20, [1], avg_friend = 3, hp_alpha=5, hp_beta=0)\n",
        "colors = list(nx.get_node_attributes(G, 'opinion').values())\n",
        "labels =  nx.get_node_attributes(G, 'opinion')\n",
        "#print(tabulate([[key] + [np.round(val, 3)] for key, val in labels.items()], headers=[\"node label\", \"opinion value\"]))\n",
        "nx.draw(G, labels= dict([index for index in enumerate(labels)]), node_color=colors, font_color='darkturquoise', vmin=-1, vmax=1, cmap = plt.cm.get_cmap('magma'))\n",
        "plt.show()\n",
        "G = people_recommender(G, [18], 'topology_based')\n",
        "\n",
        "colors = list(nx.get_node_attributes(G, 'opinion').values())\n",
        "labels =  nx.get_node_attributes(G, 'opinion')\n",
        "#print(tabulate([[key] + [np.round(val, 3)] for key, val in labels.items()], headers=[\"node label\", \"opinion value\"]))\n",
        "nx.draw(G, labels= dict([index for index in enumerate(labels)]), node_color=colors, font_color='darkturquoise', vmin=-1, vmax=1, cmap = plt.cm.get_cmap('magma'))\n",
        "plt.show()"
      ]
    },
    {
      "cell_type": "code",
      "execution_count": null,
      "metadata": {},
      "outputs": [],
      "source": [
        "#TEST\n",
        "# Calls MY_homophilic_ba_graph\n",
        "G = MY_homophilic_ba_graph(10, 9, 0, 0)\n",
        "  \n",
        "# Remapping opinions from [0, 100] to [-1, 1]\n",
        "opinions = nx.get_node_attributes(G, 'opinion')\n",
        "for curr_op in opinions:\n",
        "    opinions[curr_op] = (opinions[curr_op] - 50) / 50\n",
        "\n",
        "# Setting opinions as node attributes  \n",
        "nx.set_node_attributes(G, opinions, 'opinion')\n",
        "colors = list(nx.get_node_attributes(G, 'opinion').values())\n",
        "labels =  nx.get_node_attributes(G, 'opinion')\n",
        "nx.draw(G, labels= dict([index for index in enumerate(labels)]), node_color=colors, font_color='darkturquoise', vmin=-1, vmax=1, cmap = plt.cm.get_cmap('magma'))\n",
        "plt.show()"
      ]
    },
    {
      "cell_type": "code",
      "execution_count": null,
      "metadata": {},
      "outputs": [],
      "source": [
        "#TEST\n",
        "import numpy as np\n",
        "arr = [2,7,8]\n",
        "prova = np.random.choice(arr, size=1, replace=False)\n",
        "print(prova[0])"
      ]
    },
    {
      "cell_type": "code",
      "execution_count": null,
      "metadata": {},
      "outputs": [],
      "source": [
        "G = create_graph(5, [1], avg_friend = 3, hp_alpha=5, hp_beta=0)\n",
        "colors = list(nx.get_node_attributes(G, 'opinion').values())\n",
        "labels =  nx.get_node_attributes(G, 'opinion')\n",
        "#print(tabulate([[key] + [np.round(val, 3)] for key, val in labels.items()], headers=[\"node label\", \"opinion value\"]))\n",
        "nx.draw(G, labels= dict([index for index in enumerate(labels)]), node_color=colors, font_color='darkturquoise', vmin=-1, vmax=1, cmap = plt.cm.get_cmap('magma'))\n",
        "plt.show()\n",
        "matrice = nx.to_numpy_matrix(G)\n",
        "print(matrice)\n",
        "prova = np.linalg.matrix_power(matrice, 3)\n",
        "print(prova)\n",
        "print(prova[0])\n",
        "prova1 = list(map(int, np.ravel(prova[0])))\n",
        "print(prova1)\n",
        "print([x for x in prova1 if x > 0 and x > 1])"
      ]
    },
    {
      "cell_type": "code",
      "execution_count": null,
      "metadata": {},
      "outputs": [],
      "source": [
        "target = [1, 5, 0, 3, 6, 40, 0, 70]\n",
        "indici_validi = [0, 2, 3, 5, 6, 7]\n",
        "three_hop_not_friends = [ind for ind, x in enumerate(target) if x > 0 and ind in indici_validi]\n",
        "print(three_hop_not_friends)"
      ]
    },
    {
      "cell_type": "code",
      "execution_count": null,
      "metadata": {},
      "outputs": [],
      "source": [
        "import pandas as pd\n",
        "df2 = pd.DataFrame(data = np.array([[1, 2, 3], [4, 5, 6], [7, 8, 9]]), index=[4, 5, 6], columns=['a', 'b', 'c'])\n",
        "print(df2)\n",
        "\n",
        "d = pd.DataFrame(0, index=np.arange(len(data)), columns=feature_list)"
      ]
    },
    {
      "cell_type": "code",
      "execution_count": 3,
      "metadata": {},
      "outputs": [
        {
          "name": "stdout",
          "output_type": "stream",
          "text": [
            "{}\n"
          ]
        },
        {
          "data": {
            "text/plain": [
              "{}"
            ]
          },
          "execution_count": 3,
          "metadata": {},
          "output_type": "execute_result"
        }
      ],
      "source": [
        "G = nx.star_graph(6)\n",
        "#opinions_list = [-1] * 7\n",
        "#opinions = dict(zip(G.nodes(), opinions_list))\n",
        "nx.set_node_attributes(G, {0: 1, 1: 1, 2: 1, 3: 1, 4: -1, 5: -1, 6: 0, 7: 0}, 'opinion')\n",
        "#nx.set_node_attributes(G, {0: [1,2]}, 'people_recommended')\n",
        "prova = nx.get_node_attributes(G, 'people_recommended')\n",
        "print(prova)\n",
        "intra_list_similarity(G)"
      ]
    },
    {
      "cell_type": "code",
      "execution_count": null,
      "metadata": {},
      "outputs": [],
      "source": [
        "import recmetrics\n",
        "d = {'col0': [0, 1, 1], 'col1': [0, 0, 0], 'col2': [1, 0, 0]}\n",
        "df = pd.DataFrame(data=d, index = [2, 3, 7])\n",
        "print(df)\n",
        "dati = [2,3,7]\n",
        "print(recmetrics.intra_list_similarity([dati], df))"
      ]
    },
    {
      "cell_type": "code",
      "execution_count": 20,
      "metadata": {},
      "outputs": [
        {
          "name": "stdout",
          "output_type": "stream",
          "text": [
            "[1. 1. 0.]\n",
            "8.98846567431158e+307\n",
            "1.348269851146737e+308\n",
            "[0.5 0.5 0. ]\n",
            "##########\n",
            "[0.14024438 0.2312239  0.62853172]\n",
            "[0.54654939 0.33149896 0.12195165]\n",
            "[0.54654939 0.33149896 0.12195165]\n",
            "[0.54654939 0.33149896 0.12195165]\n"
          ]
        }
      ],
      "source": [
        "from scipy import special\n",
        "prova = special.softmax(np.array([2/(np.finfo(np.float64).tiny + np.finfo(np.float64).tiny), 2/(np.finfo(np.float64).tiny + np.finfo(np.float64).tiny), 1/(np.finfo(np.float64).tiny + np.finfo(np.float64).tiny)]))\n",
        "print(prova)\n",
        "print(2/np.finfo(np.float64).tiny+np.finfo(np.float64).tiny)\n",
        "print(3/np.finfo(np.float64).tiny)\n",
        "prova2 = special.softmax([3/0.000000001, 3/0.000000001, 1/0.000000001])\n",
        "print(prova2)\n",
        "print(\"##########\")\n",
        "prova3 = special.softmax([0.5, 1, 2])\n",
        "print(prova3)\n",
        "prova4 = special.softmax([-0.5, -1, -2])\n",
        "print(prova4)\n",
        "prova5 = special.softmax([2-0.5, 2-1, 2-2])\n",
        "print(prova5)\n",
        "prova6 = special.softmax([1.5, 1, 0])\n",
        "print(prova6)"
      ]
    },
    {
      "cell_type": "code",
      "execution_count": 13,
      "metadata": {},
      "outputs": [
        {
          "ename": "SimulateEpochPeopleRecommenderError",
          "evalue": "",
          "output_type": "error",
          "traceback": [
            "\u001b[1;31m---------------------------------------------------------------------------\u001b[0m",
            "\u001b[1;31mSimulateEpochPeopleRecommenderError\u001b[0m       Traceback (most recent call last)",
            "\u001b[1;32m~\\AppData\\Local\\Temp\\ipykernel_7880\\2425905553.py\u001b[0m in \u001b[0;36m<cell line: 6>\u001b[1;34m()\u001b[0m\n\u001b[0;32m      5\u001b[0m \u001b[0mi\u001b[0m \u001b[1;33m=\u001b[0m \u001b[1;36m2\u001b[0m\u001b[1;33m\u001b[0m\u001b[1;33m\u001b[0m\u001b[0m\n\u001b[0;32m      6\u001b[0m \u001b[1;32mif\u001b[0m \u001b[0mi\u001b[0m \u001b[1;33m==\u001b[0m \u001b[1;36m2\u001b[0m\u001b[1;33m:\u001b[0m\u001b[1;33m\u001b[0m\u001b[1;33m\u001b[0m\u001b[0m\n\u001b[1;32m----> 7\u001b[1;33m     \u001b[1;32mraise\u001b[0m \u001b[0mSimulateEpochPeopleRecommenderError\u001b[0m\u001b[1;33m\u001b[0m\u001b[1;33m\u001b[0m\u001b[0m\n\u001b[0m\u001b[0;32m      8\u001b[0m \u001b[1;32melse\u001b[0m\u001b[1;33m:\u001b[0m\u001b[1;33m\u001b[0m\u001b[1;33m\u001b[0m\u001b[0m\n\u001b[0;32m      9\u001b[0m     \u001b[0mprint\u001b[0m\u001b[1;33m(\u001b[0m\u001b[1;34m\"prova\"\u001b[0m\u001b[1;33m)\u001b[0m\u001b[1;33m\u001b[0m\u001b[1;33m\u001b[0m\u001b[0m\n",
            "\u001b[1;31mSimulateEpochPeopleRecommenderError\u001b[0m: "
          ]
        }
      ],
      "source": [
        "class SimulateEpochPeopleRecommenderError(Exception):\n",
        "    \"\"\"Raised when an error occurred in the simulate_epoch_people_recommender method\"\"\"\n",
        "    pass\n",
        "\n",
        "i = 2\n",
        "if i == 2:\n",
        "    raise SimulateEpochPeopleRecommenderError\n",
        "else:\n",
        "    print(\"prova\")"
      ]
    },
    {
      "cell_type": "code",
      "execution_count": null,
      "metadata": {},
      "outputs": [],
      "source": []
    }
  ],
  "metadata": {
    "colab": {
      "authorship_tag": "ABX9TyMCQldHQMXYog0AiIRJSuw9",
      "collapsed_sections": [],
      "include_colab_link": true,
      "name": "Sample.ipynb",
      "provenance": []
    },
    "kernelspec": {
      "display_name": "Python 3.9.5 64-bit",
      "language": "python",
      "name": "python3"
    },
    "language_info": {
      "codemirror_mode": {
        "name": "ipython",
        "version": 3
      },
      "file_extension": ".py",
      "mimetype": "text/x-python",
      "name": "python",
      "nbconvert_exporter": "python",
      "pygments_lexer": "ipython3",
      "version": "3.9.5"
    },
    "vscode": {
      "interpreter": {
        "hash": "a4036c049948bf070d9eee00b5ed3631b1f779e68557b63a131ee5e30f594fca"
      }
    }
  },
  "nbformat": 4,
  "nbformat_minor": 0
}
