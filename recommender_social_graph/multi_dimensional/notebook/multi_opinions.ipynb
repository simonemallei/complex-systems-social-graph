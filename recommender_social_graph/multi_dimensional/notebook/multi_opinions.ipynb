{
  "nbformat": 4,
  "nbformat_minor": 0,
  "metadata": {
    "colab": {
      "name": "MultiOpinion.ipynb",
      "provenance": [],
      "collapsed_sections": [],
      "authorship_tag": "ABX9TyNszRdilqqa08LSxZwlguqr",
      "include_colab_link": true
    },
    "kernelspec": {
      "name": "python3",
      "display_name": "Python 3"
    },
    "language_info": {
      "name": "python"
    }
  },
  "cells": [
    {
      "cell_type": "markdown",
      "metadata": {
        "id": "view-in-github",
        "colab_type": "text"
      },
      "source": [
        "<a href=\"https://colab.research.google.com/github/simonemallei/complex-systems-social-graph/blob/main/recommender_social_graph/multi_dimensional/notebook/multi_opinions.ipynb\" target=\"_parent\"><img src=\"https://colab.research.google.com/assets/colab-badge.svg\" alt=\"Open In Colab\"/></a>"
      ]
    },
    {
      "cell_type": "code",
      "execution_count": 39,
      "metadata": {
        "colab": {
          "base_uri": "https://localhost:8080/"
        },
        "id": "vig_MXEJLOtl",
        "outputId": "864f686c-5c9c-4988-b325-ab309c37b2a7"
      },
      "outputs": [
        {
          "output_type": "stream",
          "name": "stdout",
          "text": [
            "POST  {3: [[-0.06, -0.88]], 4: [[-0.06, -0.88]]}\n",
            "opinion [[0.18, -0.94], [-0.06, -0.88], [-0.64, -0.4], [-0.68, -0.82], [-0.28, 0.36]]\n"
          ]
        },
        {
          "output_type": "execute_result",
          "data": {
            "text/plain": [
              "array([[0.54832],\n",
              "       [1.18352]])"
            ]
          },
          "metadata": {},
          "execution_count": 39
        }
      ],
      "source": [
        "nodes, opinions = 5, 2\n",
        "g = create_graph(nodes, ops=opinions)\n",
        "simulate_epoch_updated(g, opinions, 50, 60)\n",
        "polarisation(g)"
      ]
    },
    {
      "cell_type": "code",
      "source": [
        "#@title\n",
        "import networkx as nx\n",
        "import random\n",
        "from collections import defaultdict\n",
        "import matplotlib.pyplot as plt\n",
        "import numpy as np\n",
        "from tabulate import tabulate\n",
        "import math"
      ],
      "metadata": {
        "id": "IIGMOkP7K_hY",
        "cellView": "form"
      },
      "execution_count": 2,
      "outputs": []
    },
    {
      "cell_type": "code",
      "source": [
        "#@title\n",
        "def MY_homophilic_ba_graph(N, m, ops=1, alpha=2, beta=1):\n",
        "    \"\"\"Return homophilic random graph using BA preferential attachment model.\n",
        "    A graph of n nodes is grown by attaching new nodes each with m\n",
        "    edges that are preferentially attached to existing nodes with high\n",
        "    degree. The connections are established by linking probability which \n",
        "    depends on the connectivity of sites and the homophily(similarities).\n",
        "    homophily varies ranges from 0 to 1.\n",
        "\n",
        "    Parameters\n",
        "    ----------\n",
        "    N : int\n",
        "        Number of nodes\n",
        "    m : int\n",
        "        Number of edges to attach from a new node to existing nodes\n",
        "    ops : int\n",
        "        Number of opinions of each node\n",
        "   \"\"\"\n",
        "\n",
        "    G = nx.Graph()\n",
        "    node_attribute = {}\n",
        "    \n",
        "\n",
        "    for n in range(N):\n",
        "        #generate opinion \n",
        "        op = [int(random.random()*100) for i in range(ops)]\n",
        "        G.add_node(n , opinion = op)\n",
        "        node_attribute[n] = op\n",
        "\n",
        "    #create homophilic distance ### faster to do it outside loop ###\n",
        "    dist = defaultdict(int) #distance between nodes\n",
        "\n",
        "    #euclidean distance\n",
        "    for n1 in range(N):\n",
        "        n1_attr = node_attribute[n1]\n",
        "        for n2 in range(N):\n",
        "            n2_attr = node_attribute[n2]\n",
        "            op_distance = 0\n",
        "            for o in range(ops):\n",
        "              op_distance += (n1_attr[o] - n2_attr[o]) ** 2\n",
        "            dist[(n1,n2)] = math.sqrt(op_distance)\n",
        "\n",
        "    target_list = list(range(m))\n",
        "    source = m #start with m nodes\n",
        "\n",
        "    while source < N:\n",
        "        targets = _pick_targets(G,source,target_list,dist,m, alpha=alpha ,beta=beta)\n",
        "        if targets != set(): #if the node does  find the neighbor\n",
        "            G.add_edges_from(zip([source]*m,targets))\n",
        "\n",
        "        target_list.append(source)  #tagrte list is updated with all the nodes in the graph \n",
        "        source += 1\n",
        "    return G\n",
        "\n",
        "\n"
      ],
      "metadata": {
        "id": "YJ4KAQwdLEvl",
        "cellView": "form"
      },
      "execution_count": 3,
      "outputs": []
    },
    {
      "cell_type": "code",
      "source": [
        "#@title\n",
        "def _pick_targets(G,source,target_list,dist,m ,alpha, beta):\n",
        "    '''\n",
        "    First compute the target_prob which is related to the degree'''\n",
        "    target_prob_dict = {}\n",
        "    for target in target_list:\n",
        "        pow_dist =  (dist[(source,target)]+1)**alpha\n",
        "        target_prob = (1/pow_dist)*((G.degree(target)+0.00001)**beta) #formula to compute targer prob, >>Degree better chance\n",
        "        target_prob_dict[target] = target_prob\n",
        "        \n",
        "    prob_sum = sum(target_prob_dict.values())\n",
        "\n",
        "    targets = set()\n",
        "    target_list_copy = target_list.copy()\n",
        "    count_looking = 0\n",
        "    if prob_sum == 0:\n",
        "        return targets #it returns an empty set\n",
        "\n",
        "    while len(targets) < m:\n",
        "        count_looking += 1\n",
        "        if count_looking > len(G): # if node fails to find target\n",
        "            break\n",
        "        rand_num = random.random()\n",
        "        cumsum = 0.0\n",
        "        for k in target_list_copy:\n",
        "            cumsum += float(target_prob_dict[k]) / prob_sum\n",
        "            if rand_num < cumsum:  ### ??????????\n",
        "                targets.add(k)\n",
        "                target_list_copy.remove(k)\n",
        "                break\n",
        "    return targets"
      ],
      "metadata": {
        "id": "MADvZ0ElLO9V",
        "cellView": "form"
      },
      "execution_count": 4,
      "outputs": []
    },
    {
      "cell_type": "code",
      "source": [
        "#@title\n",
        "def create_graph(n_ag, ops=1,  beba_beta=[1] , avg_friend=3, hp_alpha=2, hp_beta=1):\n",
        "  # checks on beba_beta length\n",
        "  if len(beba_beta) != 1 and len(beba_beta) != n_ag:\n",
        "    print(\"WARNING: beba_beta length is not valid. It must be 1 or nodes' number. Default value will be used\")\n",
        "    beba_beta = [1]\n",
        "    beba_beta = [beba_beta[0] for node in range(n_ag)]\n",
        "\n",
        "  if len(beba_beta) == 1:\n",
        "    beba_beta = [beba_beta[0] for node in range(n_ag)]\n",
        "\n",
        "  # Calls MY_homophilic_ba_graph\n",
        "  G = MY_homophilic_ba_graph(n_ag, avg_friend, ops, hp_alpha, hp_beta)\n",
        "  \n",
        "  # Remapping opinions from [0, 100] to [-1, 1]\n",
        "  users_opinions = nx.get_node_attributes(G, 'opinion')\n",
        "  for user in users_opinions:\n",
        "    for current_op in range(ops):\n",
        "      users_opinions[user][current_op] = (users_opinions[user][current_op] - 50) / 50\n",
        "\n",
        "  # Setting opinions as node attributes  \n",
        "  nx.set_node_attributes(G, users_opinions, 'opinion')\n",
        "\n",
        "  # Setting beba_beta as node attributes\n",
        "  node_beba_beta_dict = dict(zip(G.nodes(), beba_beta))\n",
        "  nx.set_node_attributes(G, node_beba_beta_dict, 'beba_beta')\n",
        "\n",
        "\n",
        "\n",
        "  return G"
      ],
      "metadata": {
        "id": "o3L1vCvfO5cB",
        "cellView": "form"
      },
      "execution_count": 5,
      "outputs": []
    },
    {
      "cell_type": "code",
      "source": [
        "#@title\n",
        "def compute_activation(G, nodes, ops):\n",
        "  opinions = nx.get_node_attributes(G, 'opinion')\n",
        "  all_feeds = nx.get_node_attributes(G, 'feed')\n",
        "  beba_beta_list = nx.get_node_attributes(G, 'beba_beta')\n",
        "  # Activating update of each node\n",
        "  for curr_node in nodes:\n",
        "    node_feeds = all_feeds.get(curr_node, [])\n",
        "\n",
        "    # Computing weight w(i, i)\n",
        "    weight_noose = beba_beta_list[curr_node] * np.dot(opinions[curr_node], opinions[curr_node]) + 1\n",
        "\n",
        "    # Computing new opinion of curr_node\n",
        "    op_num = [weight_noose * op for op in opinions[curr_node]]\n",
        "    op_den = weight_noose\n",
        "    for feed in node_feeds:\n",
        "      # Computing weights w(i, j) where i == curr_node and y(j) == feed\n",
        "      weight = beba_beta_list[curr_node] * np.dot(feed, opinions[curr_node]) + 1\n",
        "      for i in range(ops):\n",
        "        op_num[i] += weight * feed[i]\n",
        "      op_den += weight\n",
        "\n",
        "    # If the denominator is < 0, the opinion gets polarized and \n",
        "    # the value is set to sgn(opinions[curr_node])\n",
        "    if op_den <= 0:\n",
        "      for current_op in range(ops):\n",
        "        opinions[curr_node][current_op] = opinions[curr_node][current_op] / abs(opinions[curr_node][current_op])\n",
        "    else:\n",
        "      for current_op in range(ops):\n",
        "        opinions[curr_node][current_op] = op_num[current_op] / op_den\n",
        "  \n",
        "    # Opinions are capped within [-1, 1] \n",
        "    for current_op in range(ops):\n",
        "      if opinions[curr_node][current_op] < -1:\n",
        "        opinions[curr_node][current_op] = -1\n",
        "      if opinions[curr_node][current_op] > 1:\n",
        "        opinions[curr_node][current_op] = 1\n",
        "    all_feeds[curr_node] = []\n",
        "  \n",
        "  # Updating feed and opinion attributes\n",
        "  nx.set_node_attributes(G, all_feeds, 'feed')\n",
        "  nx.set_node_attributes(G, opinions, 'opinion')\n",
        "\n",
        "  return G"
      ],
      "metadata": {
        "id": "WhM5mDMT3AHu",
        "cellView": "form"
      },
      "execution_count": 6,
      "outputs": []
    },
    {
      "cell_type": "code",
      "source": [
        "#@title\n",
        "def compute_post(G, nodes, ops, epsilon = 0.0):\n",
        "  opinions = nx.get_node_attributes(G, 'opinion')\n",
        "  for node_id in nodes:\n",
        "    new_opinion = []\n",
        "    for op in range(ops):\n",
        "      rand_eps = np.random.normal(0, epsilon, 1)\n",
        "      noise_op = rand_eps[0] + opinions[node_id][op]\n",
        "      noise_op = min(noise_op, 1)\n",
        "      noise_op = max(noise_op, -1)\n",
        "      new_opinion.append(noise_op)\n",
        "\n",
        "    post = [new_opinion]\n",
        "    past_feed = nx.get_node_attributes(G, 'feed')\n",
        "\n",
        "    #Spread Opinion\n",
        "    all_neig = list(nx.neighbors(G, node_id))   #get all neighbours ID\n",
        "\n",
        "    \n",
        "    post_to_be_added = dict(zip(all_neig,\n",
        "                                   [list(post) for _ in range(len(all_neig))] ))\n",
        "\n",
        "    post_post_to_be_added = {key: past_feed[key] + value \n",
        "                              if key in [*past_feed]\n",
        "                              else value\n",
        "                              for key, value in post_to_be_added.items()}\n",
        "      \n",
        "    print('POST ',  post_post_to_be_added)\n",
        "    nx.set_node_attributes(G, post_post_to_be_added , name='feed')\n",
        "  return G"
      ],
      "metadata": {
        "id": "y97bRs4Jt5mL",
        "cellView": "form"
      },
      "execution_count": 7,
      "outputs": []
    },
    {
      "cell_type": "code",
      "source": [
        "#@title\n",
        "def simulate_epoch_updated(G, ops, percent_updating_nodes, percent_posting_nodes, epsilon = 0.0):\n",
        "  # Sampling randomly the activating nodes\n",
        "  updating_nodes = int(percent_updating_nodes * len(G.nodes()) / 100)\n",
        "  act_nodes = np.random.choice(range(len(G.nodes())), size=updating_nodes, replace=False)\n",
        "\n",
        "  # Executing activation phase: activated nodes will consume their feed\n",
        "  G = compute_activation(G, act_nodes, ops)\n",
        "\n",
        "  # Sampling randomly the posting nodes from activating nodes' list\n",
        "  posting_nodes = int(percent_posting_nodes * len(act_nodes) / 100)\n",
        "  post_nodes = np.random.choice(act_nodes,size=posting_nodes, replace = False)\n",
        "\n",
        "  # Executing posting phase: activated nodes will post in their neighbours' feed\n",
        "  G = compute_post(G, post_nodes, ops, epsilon)\n",
        "  return G"
      ],
      "metadata": {
        "id": "oOfoWIVuwlsp",
        "cellView": "form"
      },
      "execution_count": 8,
      "outputs": []
    },
    {
      "cell_type": "code",
      "source": [
        "#@title\n",
        "def apply_initial_feed(G, ops, n_post = 10, epsilon = 0.1):\n",
        "  # Casting all the numpy arrays as built-in lists \n",
        "  initial_feed_dict = dict()\n",
        "  opinions = nx.get_node_attributes(G, 'opinion')\n",
        "\n",
        "  for curr_node in G.nodes():\n",
        "    # Sampling {n_post} elements from a normal distribution with\n",
        "    # - mean = 0.0\n",
        "    # - std = epsilon\n",
        "    # This values are added with the original opinion in order to have \n",
        "    # a feed that has similar values with the starting opinion\n",
        "    feed = [np.random.normal(0, epsilon, ops) + opinions[curr_node] for i in range(n_post)]\n",
        "    for i in range(n_post):\n",
        "      for j in range(ops):\n",
        "        feed[i][j] = max(-1, min(1, feed[i][j]))\n",
        "    initial_feed_dict[curr_node] = list(feed)\n",
        "  \n",
        "  # Setting these values as feed in the graph\n",
        "  nx.set_node_attributes(G, initial_feed_dict, 'feed')\n",
        "\n",
        "  return G"
      ],
      "metadata": {
        "id": "iYmPVlhJBFIq",
        "cellView": "form"
      },
      "execution_count": 9,
      "outputs": []
    },
    {
      "cell_type": "code",
      "source": [
        "#@title\n",
        "# create graph and update it with ABEBA model (with epsilon-error == 0.0)\n",
        "nodes, ops = 10, 3\n",
        "G = create_graph(nodes, ops, [1], avg_friend = 3, hp_alpha=5, hp_beta=0)\n",
        "G = apply_initial_feed(G, ops, n_post=2)\n",
        "print(\"Starting graph: \")\n",
        "labels =  nx.get_node_attributes(G, 'opinion')\n",
        "print(tabulate([[key] + [np.round(val, 3)] for key, val in labels.items()], headers=[\"node label\", \"opinion value\"]))"
      ],
      "metadata": {
        "colab": {
          "base_uri": "https://localhost:8080/"
        },
        "id": "Q_1qhkZGAqXc",
        "outputId": "75210020-f262-430e-aec3-4406eafed74e",
        "cellView": "form"
      },
      "execution_count": 10,
      "outputs": [
        {
          "output_type": "stream",
          "name": "stdout",
          "text": [
            "Starting graph: \n",
            "  node label  opinion value\n",
            "------------  -------------------\n",
            "           0  [0.94 0.98 0.18]\n",
            "           1  [ 0.9  -0.72 -0.68]\n",
            "           2  [ 0.66  0.58 -0.8 ]\n",
            "           3  [-0.06 -0.74 -0.2 ]\n",
            "           4  [-0.06 -0.38 -0.8 ]\n",
            "           5  [ 0.04 -0.02 -0.22]\n",
            "           6  [-0.32  0.48  0.16]\n",
            "           7  [ 0.74  0.82 -0.32]\n",
            "           8  [-0.38 -0.34 -0.94]\n",
            "           9  [-0.04 -0.34 -0.02]\n"
          ]
        }
      ]
    },
    {
      "cell_type": "code",
      "source": [
        "#@title\n",
        "# Simulating an epoch and printing the opinion graph obtained\n",
        "G = simulate_epoch_updated(G, ops, 50, 50)\n",
        "labels =  nx.get_node_attributes(G, 'opinion')\n",
        "print(tabulate([[key] + [np.round(val, 3)] for key, val in labels.items()], headers=[\"node label\", \"opinion value\"]))"
      ],
      "metadata": {
        "colab": {
          "base_uri": "https://localhost:8080/"
        },
        "id": "zbOUI-hR4vWG",
        "outputId": "e3cd6a48-0f2e-45f1-c61a-31655a7a8822",
        "cellView": "form"
      },
      "execution_count": 22,
      "outputs": [
        {
          "output_type": "stream",
          "name": "stdout",
          "text": [
            "POST  {4: [[-0.3678049634988393, -0.35198244122564576, -0.9279605256726843]]}\n",
            "POST  {3: [[0.5009278483124533, 0.3726960154118406, -0.6644794089702246]], 4: [[-0.3678049634988393, -0.35198244122564576, -0.9279605256726843], [0.5009278483124533, 0.3726960154118406, -0.6644794089702246]], 6: [array([-0.2453081 ,  0.35885751,  0.00577946]), array([-0.40521002,  0.43459899,  0.04014651]), [0.07572503804364532, -0.01281566559334495, -0.2961225922591539], [0.5009278483124533, 0.3726960154118406, -0.6644794089702246]], 7: [[0.07572503804364532, -0.01281566559334495, -0.2961225922591539], [0.5009278483124533, 0.3726960154118406, -0.6644794089702246]]}\n",
            "  node label  opinion value\n",
            "------------  ----------------------\n",
            "           0  [0.94 0.98 0.18]\n",
            "           1  [ 0.9  -0.72 -0.68]\n",
            "           2  [ 0.501  0.373 -0.664]\n",
            "           3  [ 0.004 -0.451 -0.24 ]\n",
            "           4  [-0.024 -0.383 -0.441]\n",
            "           5  [ 0.076 -0.013 -0.296]\n",
            "           6  [-0.32  0.48  0.16]\n",
            "           7  [ 0.741  0.89  -0.4  ]\n",
            "           8  [-0.368 -0.352 -0.928]\n",
            "           9  [ 0.024 -0.353 -0.135]\n"
          ]
        }
      ]
    },
    {
      "cell_type": "code",
      "source": [
        "def polarisation(G):\n",
        "  opinions = list(nx.get_node_attributes(G, 'opinion').values())\n",
        "  print('opinion', opinions)\n",
        "  ops = len(opinions[0])\n",
        "  n = len(opinions)\n",
        "  means = np.zeros((ops, 1))\n",
        "  for i in range(n):\n",
        "    for j in range(ops):\n",
        "      means[j] += opinions[i][j]\n",
        "  for j in range(ops):\n",
        "    means[j] /= n\n",
        "  pol = np.zeros((ops, 1))\n",
        "  for i in range(n):\n",
        "    for j in range(ops):\n",
        "      pol[j] += (opinions[i][j] - means[j]) ** 2\n",
        "  return pol"
      ],
      "metadata": {
        "id": "AQfoKRWQWHDd"
      },
      "execution_count": 38,
      "outputs": []
    },
    {
      "cell_type": "code",
      "source": [
        ""
      ],
      "metadata": {
        "id": "xZmzTahiWgcl"
      },
      "execution_count": null,
      "outputs": []
    }
  ]
}