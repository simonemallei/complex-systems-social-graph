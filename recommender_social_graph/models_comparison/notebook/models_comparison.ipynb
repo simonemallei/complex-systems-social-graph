{
 "cells": [
  {
   "cell_type": "markdown",
   "metadata": {},
   "source": [
    "\n",
    "Cloning the repository used in the notebook:"
   ]
  },
  {
   "cell_type": "code",
   "execution_count": 1,
   "metadata": {},
   "outputs": [
    {
     "name": "stderr",
     "output_type": "stream",
     "text": [
      "Cloning into 'complex-systems-social-graph'...\n"
     ]
    }
   ],
   "source": [
    "!git clone https://github.com/simonemallei/complex-systems-social-graph.git"
   ]
  },
  {
   "cell_type": "code",
   "execution_count": 2,
   "metadata": {},
   "outputs": [
    {
     "name": "stdout",
     "output_type": "stream",
     "text": [
      "c:\\Users\\Hicar\\Documents\\aggiunte-universita\\SC_MeS\\progetto\\complex-systems-social-graph\\recommender_social_graph\\models_comparison\\notebook\\complex-systems-social-graph\\recommender_social_graph\n"
     ]
    }
   ],
   "source": [
    "%cd complex-systems-social-graph/recommender_social_graph/"
   ]
  },
  {
   "cell_type": "markdown",
   "metadata": {},
   "source": [
    "Importing mandatory methods for the notebook:"
   ]
  },
  {
   "cell_type": "code",
   "execution_count": 3,
   "metadata": {},
   "outputs": [],
   "source": [
    "import networkx as nx\n",
    "from random import shuffle\n",
    "from abeba_methods import apply_initial_feed, simulate_epoch_updated as abeba_simulate_epoch_updated\n",
    "from beba_methods import simulate_epoch_updated as beba_simulate_epoch_updated"
   ]
  },
  {
   "cell_type": "code",
   "execution_count": null,
   "metadata": {},
   "outputs": [],
   "source": [
    "#PARAMS\n",
    "N_NODES = 10\n",
    "N_FRIENDS = 5\n",
    "REWIRING = 0.5\n",
    "OPINION_GROUPS = [-1, 1]\n",
    "EPOCHS = 100\n",
    "SIMULATION_REPETITION_TIMES = 50\n",
    "BETA_BEBA = 1\n",
    "\n",
    "#ABEBA PARAMS\n",
    "ABEBA_PERCENT_UPDATING_NODES = 100\n",
    "PERCENT_POSTING_NODES = 50\n",
    "#epsilon for simulate_epoch_updated\n",
    "\n",
    "#BEBA PARAMS\n",
    "BEBA_PERCENT_UPDATING_NODES = 50\n",
    "\n",
    "G_first = nx.watts_strogatz_graph(N_NODES, N_FRIENDS, p=REWIRING)\n",
    "opinions = []\n",
    "for opinion_group in OPINION_GROUPS:\n",
    "  opinions.extend([opinion_group]*(N_NODES // len(OPINION_GROUPS)))\n",
    "#sistemo la lunghezza aggiungendo il resto nell'ultimo gruppo di opinioni DA TESTARE\n",
    "opinions.extend(opinions[-1]*(N_NODES % len(OPINION_GROUPS)))\n",
    "#mescolo in modo casuale le opinioni nella lista\n",
    "shuffle(opinions) \n",
    "node_opinions_dict = dict(zip(G.nodes(), opinions))\n",
    "nx.set_node_attributes(G, node_opinions_dict, 'opinion')\n",
    "beta_beba_list = [BETA_BEBA] * N_NODES\n",
    "node_beba_beta_dict = dict(zip(G.nodes(), beta_beba_list))\n",
    "nx.set_node_attributes(G, node_beba_beta_dict, 'beba_beta')\n",
    "G_second = G_first.copy()\n",
    "for rep_time in range(SIMULATION_REPETITION_TIMES):\n",
    "\n",
    "  #ABEBA model\n",
    "  G_first = apply_initial_feed(G_first)\n",
    "\n",
    "  for epoch in range(EPOCHS):\n",
    "    G_first = abeba_simulate_epoch_updated(G_first, PERCENT_UPDATING_NODES, PERCENT_POSTING_NODES)\n",
    "    G_second = beba_simulate_epoch_updated(G_second, BETA, BEBA_PERCENT_UPDATING_NODES)\n",
    "\n",
    "    #MANCANO I RETURN DA GESTIRE (FORSE BISOGNA STAMPARE TABELLA COI DATI E GRAFICO)!! E ANCHE LE ECCEZIONI!!"
   ]
  },
  {
   "cell_type": "code",
   "execution_count": 5,
   "metadata": {},
   "outputs": [],
   "source": [
    "import networkx as nx\n",
    "import random\n",
    "from collections import defaultdict\n",
    "import matplotlib.pyplot as plt\n",
    "from graph_creation import MY_homophilic_ba_graph\n"
   ]
  },
  {
   "cell_type": "code",
   "execution_count": 185,
   "metadata": {},
   "outputs": [
    {
     "data": {
      "image/png": "[encoded data removed]",
      "text/plain": [
       "<Figure size 432x288 with 1 Axes>"
      ]
     },
     "metadata": {},
     "output_type": "display_data"
    }
   ],
   "source": [
    "# Calls MY_homophilic_ba_graph\n",
    "G = MY_homophilic_ba_graph(10, 9, 0, 0)\n",
    "  \n",
    "# Remapping opinions from [0, 100] to [-1, 1]\n",
    "opinions = nx.get_node_attributes(G, 'opinion')\n",
    "for curr_op in opinions:\n",
    "    opinions[curr_op] = (opinions[curr_op] - 50) / 50\n",
    "\n",
    "# Setting opinions as node attributes  \n",
    "nx.set_node_attributes(G, opinions, 'opinion')\n",
    "colors = list(nx.get_node_attributes(G, 'opinion').values())\n",
    "labels =  nx.get_node_attributes(G, 'opinion')\n",
    "nx.draw(G, labels= dict([index for index in enumerate(labels)]), node_color=colors, font_color='darkturquoise', vmin=-1, vmax=1, cmap = plt.cm.get_cmap('magma'))\n",
    "plt.show()"
   ]
  }
 ],
 "metadata": {
  "kernelspec": {
   "display_name": "Python 3.9.5 64-bit",
   "language": "python",
   "name": "python3"
  },
  "language_info": {
   "codemirror_mode": {
    "name": "ipython",
    "version": 3
   },
   "file_extension": ".py",
   "mimetype": "text/x-python",
   "name": "python",
   "nbconvert_exporter": "python",
   "pygments_lexer": "ipython3",
   "version": "3.9.5"
  },
  "orig_nbformat": 4,
  "vscode": {
   "interpreter": {
    "hash": "a4036c049948bf070d9eee00b5ed3631b1f779e68557b63a131ee5e30f594fca"
   }
  }
 },
 "nbformat": 4,
 "nbformat_minor": 2
}
