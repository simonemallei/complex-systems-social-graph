{
 "cells": [
  {
   "cell_type": "code",
   "execution_count": 3,
   "metadata": {},
   "outputs": [],
   "source": [
    "import networkx as nx\n",
    "from random import shuffle\n",
    "from abeba_methods import apply_initial_feed, simulate_epoch_updated as abeba_simulate_epoch_updated\n",
    "from beba_methods import simulate_epoch_updated as beba_simulate_epoch_updated"
   ]
  },
  {
   "cell_type": "code",
   "execution_count": null,
   "metadata": {},
   "outputs": [],
   "source": [
    "#PARAMS\n",
    "N_NODES = 10\n",
    "N_FRIENDS = 5\n",
    "REWIRING = 0.5\n",
    "OPINION_GROUPS = [-1, 1]\n",
    "EPOCHS = 100\n",
    "SIMULATION_REPETITION_TIMES = 50\n",
    "BETA_BEBA = 1\n",
    "\n",
    "#ABEBA PARAMS\n",
    "ABEBA_PERCENT_UPDATING_NODES = 100\n",
    "PERCENT_POSTING_NODES = 50\n",
    "#epsilon for simulate_epoch_updated\n",
    "\n",
    "#BEBA PARAMS\n",
    "BEBA_PERCENT_UPDATING_NODES = 50\n",
    "\n",
    "G_first = nx.watts_strogatz_graph(N_NODES, N_FRIENDS, p=REWIRING)\n",
    "opinions = []\n",
    "for opinion_group in OPINION_GROUPS:\n",
    "  opinions.extend([opinion_group]*(N_NODES // len(OPINION_GROUPS)))\n",
    "#sistemo la lunghezza aggiungendo il resto nell'ultimo gruppo di opinioni DA TESTARE\n",
    "opinions.extend(opinions[-1]*(N_NODES % len(OPINION_GROUPS)))\n",
    "#mescolo in modo casuale le opinioni nella lista\n",
    "shuffle(opinions) \n",
    "node_opinions_dict = dict(zip(G.nodes(), opinions))\n",
    "nx.set_node_attributes(G, node_opinions_dict, 'opinion')\n",
    "beta_beba_list = [BETA_BEBA] * N_NODES\n",
    "node_beba_beta_dict = dict(zip(G.nodes(), beta_beba_list))\n",
    "nx.set_node_attributes(G, node_beba_beta_dict, 'beba_beta')\n",
    "G_second = G_first.copy()\n",
    "for rep_time in range(SIMULATION_REPETITION_TIMES):\n",
    "\n",
    "  #ABEBA model\n",
    "  G_first = apply_initial_feed(G_first)\n",
    "\n",
    "  for epoch in range(EPOCHS):\n",
    "    G_first = abeba_simulate_epoch_updated(G_first, PERCENT_UPDATING_NODES, PERCENT_POSTING_NODES)\n",
    "    G_second = beba_simulate_epoch_updated(G_second, BETA, BEBA_PERCENT_UPDATING_NODES)\n",
    "\n",
    "    #MANCANO I RETURN DA GESTIRE (FORSE BISOGNA STAMPARE TABELLA COI DATI E GRAFICO)!! E ANCHE LE ECCEZIONI!!"
   ]
  }
 ],
 "metadata": {
  "kernelspec": {
   "display_name": "Python 3.9.5 64-bit",
   "language": "python",
   "name": "python3"
  },
  "language_info": {
   "codemirror_mode": {
    "name": "ipython",
    "version": 3
   },
   "file_extension": ".py",
   "mimetype": "text/x-python",
   "name": "python",
   "nbconvert_exporter": "python",
   "pygments_lexer": "ipython3",
   "version": "3.9.5"
  },
  "orig_nbformat": 4,
  "vscode": {
   "interpreter": {
    "hash": "a4036c049948bf070d9eee00b5ed3631b1f779e68557b63a131ee5e30f594fca"
   }
  }
 },
 "nbformat": 4,
 "nbformat_minor": 2
}
